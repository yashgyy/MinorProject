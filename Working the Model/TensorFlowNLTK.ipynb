{
 "cells": [
  {
   "cell_type": "code",
   "execution_count": 3,
   "metadata": {
    "collapsed": true
   },
   "outputs": [],
   "source": [
    "import  pandas as pd"
   ]
  },
  {
   "cell_type": "code",
   "execution_count": 4,
   "metadata": {
    "collapsed": true
   },
   "outputs": [],
   "source": [
    "import tensorflow.contrib.learn as tf"
   ]
  },
  {
   "cell_type": "code",
   "execution_count": 5,
   "metadata": {
    "collapsed": true
   },
   "outputs": [],
   "source": [
    "XX=pd.read_csv('File16.csv')"
   ]
  },
  {
   "cell_type": "code",
   "execution_count": 6,
   "metadata": {},
   "outputs": [
    {
     "data": {
      "text/html": [
       "<div>\n",
       "<style>\n",
       "    .dataframe thead tr:only-child th {\n",
       "        text-align: right;\n",
       "    }\n",
       "\n",
       "    .dataframe thead th {\n",
       "        text-align: left;\n",
       "    }\n",
       "\n",
       "    .dataframe tbody tr th {\n",
       "        vertical-align: top;\n",
       "    }\n",
       "</style>\n",
       "<table border=\"1\" class=\"dataframe\">\n",
       "  <thead>\n",
       "    <tr style=\"text-align: right;\">\n",
       "      <th></th>\n",
       "      <th>Body</th>\n",
       "      <th>labels</th>\n",
       "    </tr>\n",
       "  </thead>\n",
       "  <tbody>\n",
       "    <tr>\n",
       "      <th>0</th>\n",
       "      <td>Bugis oso near wat...</td>\n",
       "      <td>Personal</td>\n",
       "    </tr>\n",
       "    <tr>\n",
       "      <th>1</th>\n",
       "      <td>Go until jurong point, crazy.. Available only ...</td>\n",
       "      <td>Personal</td>\n",
       "    </tr>\n",
       "    <tr>\n",
       "      <th>2</th>\n",
       "      <td>I dunno until when... Lets go learn pilates...</td>\n",
       "      <td>Personal</td>\n",
       "    </tr>\n",
       "    <tr>\n",
       "      <th>3</th>\n",
       "      <td>Den only weekdays got special price... Haiz......</td>\n",
       "      <td>Personal</td>\n",
       "    </tr>\n",
       "    <tr>\n",
       "      <th>4</th>\n",
       "      <td>Meet after lunch la...</td>\n",
       "      <td>Personal</td>\n",
       "    </tr>\n",
       "    <tr>\n",
       "      <th>5</th>\n",
       "      <td>m walking in citylink now  faster come down......</td>\n",
       "      <td>Personal</td>\n",
       "    </tr>\n",
       "    <tr>\n",
       "      <th>6</th>\n",
       "      <td>5 nights...We nt staying at port step liao...T...</td>\n",
       "      <td>Personal</td>\n",
       "    </tr>\n",
       "    <tr>\n",
       "      <th>7</th>\n",
       "      <td>Hey pple...$700 or $900 for 5 nights...Excelle...</td>\n",
       "      <td>Personal</td>\n",
       "    </tr>\n",
       "    <tr>\n",
       "      <th>8</th>\n",
       "      <td>Yun ah.the ubi one say if  wan call by tomorro...</td>\n",
       "      <td>Personal</td>\n",
       "    </tr>\n",
       "    <tr>\n",
       "      <th>9</th>\n",
       "      <td>Hey tmr maybe can meet you at yck</td>\n",
       "      <td>Personal</td>\n",
       "    </tr>\n",
       "    <tr>\n",
       "      <th>10</th>\n",
       "      <td>Oh...i asked for fun. Haha...take care.</td>\n",
       "      <td>Personal</td>\n",
       "    </tr>\n",
       "    <tr>\n",
       "      <th>11</th>\n",
       "      <td>We are supposed to meet to discuss abt our tri...</td>\n",
       "      <td>Personal</td>\n",
       "    </tr>\n",
       "    <tr>\n",
       "      <th>12</th>\n",
       "      <td>t finish my film yet...</td>\n",
       "      <td>Personal</td>\n",
       "    </tr>\n",
       "    <tr>\n",
       "      <th>13</th>\n",
       "      <td>m having dinner with my cousin...</td>\n",
       "      <td>Personal</td>\n",
       "    </tr>\n",
       "    <tr>\n",
       "      <th>14</th>\n",
       "      <td>Oh... Kay... On sat right?</td>\n",
       "      <td>Personal</td>\n",
       "    </tr>\n",
       "    <tr>\n",
       "      <th>15</th>\n",
       "      <td>I need... Coz i never go before</td>\n",
       "      <td>Personal</td>\n",
       "    </tr>\n",
       "    <tr>\n",
       "      <th>16</th>\n",
       "      <td>s a basic yoga course... at bugis... We can go...</td>\n",
       "      <td>Personal</td>\n",
       "    </tr>\n",
       "    <tr>\n",
       "      <th>17</th>\n",
       "      <td>I am going to sao mu today. Will be done only ...</td>\n",
       "      <td>Personal</td>\n",
       "    </tr>\n",
       "    <tr>\n",
       "      <th>18</th>\n",
       "      <td>Hey gals...U all wanna meet 4 dinner at nte?</td>\n",
       "      <td>Personal</td>\n",
       "    </tr>\n",
       "    <tr>\n",
       "      <th>19</th>\n",
       "      <td>Jos ask if u wana meet up?</td>\n",
       "      <td>Personal</td>\n",
       "    </tr>\n",
       "    <tr>\n",
       "      <th>20</th>\n",
       "      <td>Haiyoh... Maybe your hamster was jealous of mi...</td>\n",
       "      <td>Personal</td>\n",
       "    </tr>\n",
       "    <tr>\n",
       "      <th>21</th>\n",
       "      <td>is your hamster dead? Hey so tmr i meet you at...</td>\n",
       "      <td>Personal</td>\n",
       "    </tr>\n",
       "    <tr>\n",
       "      <th>22</th>\n",
       "      <td>ve booked the pilates and yoga lesson already....</td>\n",
       "      <td>Personal</td>\n",
       "    </tr>\n",
       "    <tr>\n",
       "      <th>23</th>\n",
       "      <td>Yup... I havent been there before... You want ...</td>\n",
       "      <td>Personal</td>\n",
       "    </tr>\n",
       "    <tr>\n",
       "      <th>24</th>\n",
       "      <td>K... Must book a not huh? so going for yoga ba...</td>\n",
       "      <td>Personal</td>\n",
       "    </tr>\n",
       "    <tr>\n",
       "      <th>25</th>\n",
       "      <td>Hey so this sat are we going for the intro pil...</td>\n",
       "      <td>Personal</td>\n",
       "    </tr>\n",
       "    <tr>\n",
       "      <th>26</th>\n",
       "      <td>Sat right? Okay thanks...</td>\n",
       "      <td>Personal</td>\n",
       "    </tr>\n",
       "    <tr>\n",
       "      <th>27</th>\n",
       "      <td>Yup... From what i remb... I think should be c...</td>\n",
       "      <td>Personal</td>\n",
       "    </tr>\n",
       "    <tr>\n",
       "      <th>28</th>\n",
       "      <td>m going to get specs. My membership is PX3748</td>\n",
       "      <td>Personal</td>\n",
       "    </tr>\n",
       "    <tr>\n",
       "      <th>29</th>\n",
       "      <td>We can go 4 e normal pilates after our intro...</td>\n",
       "      <td>Personal</td>\n",
       "    </tr>\n",
       "    <tr>\n",
       "      <th>...</th>\n",
       "      <td>...</td>\n",
       "      <td>...</td>\n",
       "    </tr>\n",
       "    <tr>\n",
       "      <th>600</th>\n",
       "      <td>Delivered: Reebok REEBOK SPEED Me... with t...</td>\n",
       "      <td>online</td>\n",
       "    </tr>\n",
       "    <tr>\n",
       "      <th>601</th>\n",
       "      <td>Out for Delivery: Reebok EXCLUSIVE RUNNE......</td>\n",
       "      <td>online</td>\n",
       "    </tr>\n",
       "    <tr>\n",
       "      <th>602</th>\n",
       "      <td>Delivery Scheduled: Reebok REEBOK SPEED Me....</td>\n",
       "      <td>online</td>\n",
       "    </tr>\n",
       "    <tr>\n",
       "      <th>603</th>\n",
       "      <td>Your Amazon Prime free trial has ended. Joi...</td>\n",
       "      <td>online</td>\n",
       "    </tr>\n",
       "    <tr>\n",
       "      <th>604</th>\n",
       "      <td>AirFares@ EaseMyTrip.com -Lowest Price Chal...</td>\n",
       "      <td>others</td>\n",
       "    </tr>\n",
       "    <tr>\n",
       "      <th>605</th>\n",
       "      <td>Win FREE holiday to Europe, Dubai &amp; Thailan...</td>\n",
       "      <td>others</td>\n",
       "    </tr>\n",
       "    <tr>\n",
       "      <th>606</th>\n",
       "      <td>Lowest Air-Fare Challenge  Get upto Rs.2000...</td>\n",
       "      <td>others</td>\n",
       "    </tr>\n",
       "    <tr>\n",
       "      <th>607</th>\n",
       "      <td>www.EaseMyTrip.com : Lowest Fare Challenge....</td>\n",
       "      <td>others</td>\n",
       "    </tr>\n",
       "    <tr>\n",
       "      <th>608</th>\n",
       "      <td>Goibibo Hot Summer Sale - Upto 70% off + 20...</td>\n",
       "      <td>others</td>\n",
       "    </tr>\n",
       "    <tr>\n",
       "      <th>609</th>\n",
       "      <td>Dear Yash, Rs 2000.0 is credited to your go...</td>\n",
       "      <td>others</td>\n",
       "    </tr>\n",
       "    <tr>\n",
       "      <th>610</th>\n",
       "      <td>GENT! We are trying to contact you. Last weeke...</td>\n",
       "      <td>spam</td>\n",
       "    </tr>\n",
       "    <tr>\n",
       "      <th>611</th>\n",
       "      <td>You are a winner U have been specially selecte...</td>\n",
       "      <td>spam</td>\n",
       "    </tr>\n",
       "    <tr>\n",
       "      <th>612</th>\n",
       "      <td>PRIVATE! Your 2004 Account Statement for 07742...</td>\n",
       "      <td>spam</td>\n",
       "    </tr>\n",
       "    <tr>\n",
       "      <th>613</th>\n",
       "      <td>URGENT! Your Mobile No. was awarded 2000 Bonus...</td>\n",
       "      <td>spam</td>\n",
       "    </tr>\n",
       "    <tr>\n",
       "      <th>614</th>\n",
       "      <td>Todays Voda numbers ending 7548 are selected t...</td>\n",
       "      <td>spam</td>\n",
       "    </tr>\n",
       "    <tr>\n",
       "      <th>615</th>\n",
       "      <td>Sunshine Quiz Wkly Q! Win a top Sony DVD playe...</td>\n",
       "      <td>spam</td>\n",
       "    </tr>\n",
       "    <tr>\n",
       "      <th>616</th>\n",
       "      <td>Want 2 get laid tonight? Want real Dogging loc...</td>\n",
       "      <td>spam</td>\n",
       "    </tr>\n",
       "    <tr>\n",
       "      <th>617</th>\n",
       "      <td>You'll not rcv any more msgs from the chat svc...</td>\n",
       "      <td>spam</td>\n",
       "    </tr>\n",
       "    <tr>\n",
       "      <th>618</th>\n",
       "      <td>FreeMsg Why haven't you replied to my text? I'...</td>\n",
       "      <td>spam</td>\n",
       "    </tr>\n",
       "    <tr>\n",
       "      <th>619</th>\n",
       "      <td>Customer service annoncement. You have a New Y...</td>\n",
       "      <td>spam</td>\n",
       "    </tr>\n",
       "    <tr>\n",
       "      <th>620</th>\n",
       "      <td>You are a winner U have been specially selecte...</td>\n",
       "      <td>spam</td>\n",
       "    </tr>\n",
       "    <tr>\n",
       "      <th>621</th>\n",
       "      <td>-PLS STOP bootydelious (32/F) is inviting you ...</td>\n",
       "      <td>spam</td>\n",
       "    </tr>\n",
       "    <tr>\n",
       "      <th>622</th>\n",
       "      <td>BangBabes Ur order is on the way. U SHOULD rec...</td>\n",
       "      <td>spam</td>\n",
       "    </tr>\n",
       "    <tr>\n",
       "      <th>623</th>\n",
       "      <td>URGENT! We are trying to contact you. Last wee...</td>\n",
       "      <td>spam</td>\n",
       "    </tr>\n",
       "    <tr>\n",
       "      <th>624</th>\n",
       "      <td>Please call our customer service representativ...</td>\n",
       "      <td>spam</td>\n",
       "    </tr>\n",
       "    <tr>\n",
       "      <th>625</th>\n",
       "      <td>Are you unique enough? Find out from 30th Augu...</td>\n",
       "      <td>spam</td>\n",
       "    </tr>\n",
       "    <tr>\n",
       "      <th>626</th>\n",
       "      <td>500 New Mobiles from 2004, MUST GO! Txt: NOKIA...</td>\n",
       "      <td>spam</td>\n",
       "    </tr>\n",
       "    <tr>\n",
       "      <th>627</th>\n",
       "      <td>Will u meet ur dream partner soon? Is ur caree...</td>\n",
       "      <td>spam</td>\n",
       "    </tr>\n",
       "    <tr>\n",
       "      <th>628</th>\n",
       "      <td>Text &amp; meet someone sexy today. U can find a d...</td>\n",
       "      <td>spam</td>\n",
       "    </tr>\n",
       "    <tr>\n",
       "      <th>629</th>\n",
       "      <td>U 447801259231 have a secret admirer who is lo...</td>\n",
       "      <td>spam</td>\n",
       "    </tr>\n",
       "  </tbody>\n",
       "</table>\n",
       "<p>630 rows × 2 columns</p>\n",
       "</div>"
      ],
      "text/plain": [
       "                                                  Body    labels\n",
       "0                                Bugis oso near wat...  Personal\n",
       "1    Go until jurong point, crazy.. Available only ...  Personal\n",
       "2       I dunno until when... Lets go learn pilates...  Personal\n",
       "3    Den only weekdays got special price... Haiz......  Personal\n",
       "4                               Meet after lunch la...  Personal\n",
       "5    m walking in citylink now  faster come down......  Personal\n",
       "6    5 nights...We nt staying at port step liao...T...  Personal\n",
       "7    Hey pple...$700 or $900 for 5 nights...Excelle...  Personal\n",
       "8    Yun ah.the ubi one say if  wan call by tomorro...  Personal\n",
       "9                    Hey tmr maybe can meet you at yck  Personal\n",
       "10            Oh...i asked for fun. Haha...take care.   Personal\n",
       "11   We are supposed to meet to discuss abt our tri...  Personal\n",
       "12                             t finish my film yet...  Personal\n",
       "13                   m having dinner with my cousin...  Personal\n",
       "14                          Oh... Kay... On sat right?  Personal\n",
       "15                     I need... Coz i never go before  Personal\n",
       "16   s a basic yoga course... at bugis... We can go...  Personal\n",
       "17   I am going to sao mu today. Will be done only ...  Personal\n",
       "18        Hey gals...U all wanna meet 4 dinner at nte?  Personal\n",
       "19                          Jos ask if u wana meet up?  Personal\n",
       "20   Haiyoh... Maybe your hamster was jealous of mi...  Personal\n",
       "21   is your hamster dead? Hey so tmr i meet you at...  Personal\n",
       "22   ve booked the pilates and yoga lesson already....  Personal\n",
       "23   Yup... I havent been there before... You want ...  Personal\n",
       "24   K... Must book a not huh? so going for yoga ba...  Personal\n",
       "25   Hey so this sat are we going for the intro pil...  Personal\n",
       "26                           Sat right? Okay thanks...  Personal\n",
       "27   Yup... From what i remb... I think should be c...  Personal\n",
       "28       m going to get specs. My membership is PX3748  Personal\n",
       "29     We can go 4 e normal pilates after our intro...  Personal\n",
       "..                                                 ...       ...\n",
       "600     Delivered: Reebok REEBOK SPEED Me... with t...    online\n",
       "601     Out for Delivery: Reebok EXCLUSIVE RUNNE......    online\n",
       "602     Delivery Scheduled: Reebok REEBOK SPEED Me....    online\n",
       "603     Your Amazon Prime free trial has ended. Joi...    online\n",
       "604     AirFares@ EaseMyTrip.com -Lowest Price Chal...    others\n",
       "605     Win FREE holiday to Europe, Dubai & Thailan...    others\n",
       "606     Lowest Air-Fare Challenge  Get upto Rs.2000...    others\n",
       "607     www.EaseMyTrip.com : Lowest Fare Challenge....    others\n",
       "608     Goibibo Hot Summer Sale - Upto 70% off + 20...    others\n",
       "609     Dear Yash, Rs 2000.0 is credited to your go...    others\n",
       "610  GENT! We are trying to contact you. Last weeke...      spam\n",
       "611  You are a winner U have been specially selecte...      spam\n",
       "612  PRIVATE! Your 2004 Account Statement for 07742...      spam\n",
       "613  URGENT! Your Mobile No. was awarded 2000 Bonus...      spam\n",
       "614  Todays Voda numbers ending 7548 are selected t...      spam\n",
       "615  Sunshine Quiz Wkly Q! Win a top Sony DVD playe...      spam\n",
       "616  Want 2 get laid tonight? Want real Dogging loc...      spam\n",
       "617  You'll not rcv any more msgs from the chat svc...      spam\n",
       "618  FreeMsg Why haven't you replied to my text? I'...      spam\n",
       "619  Customer service annoncement. You have a New Y...      spam\n",
       "620  You are a winner U have been specially selecte...      spam\n",
       "621  -PLS STOP bootydelious (32/F) is inviting you ...      spam\n",
       "622  BangBabes Ur order is on the way. U SHOULD rec...      spam\n",
       "623  URGENT! We are trying to contact you. Last wee...      spam\n",
       "624  Please call our customer service representativ...      spam\n",
       "625  Are you unique enough? Find out from 30th Augu...      spam\n",
       "626  500 New Mobiles from 2004, MUST GO! Txt: NOKIA...      spam\n",
       "627  Will u meet ur dream partner soon? Is ur caree...      spam\n",
       "628  Text & meet someone sexy today. U can find a d...      spam\n",
       "629  U 447801259231 have a secret admirer who is lo...      spam\n",
       "\n",
       "[630 rows x 2 columns]"
      ]
     },
     "execution_count": 6,
     "metadata": {},
     "output_type": "execute_result"
    }
   ],
   "source": [
    "XX\n",
    "\n",
    "\n",
    "\n",
    "\n",
    "\n",
    "\n",
    "\n",
    "\n",
    "\n",
    "\n",
    "\n",
    "\n"
   ]
  },
  {
   "cell_type": "code",
   "execution_count": 7,
   "metadata": {
    "collapsed": true
   },
   "outputs": [],
   "source": [
    "from sklearn.feature_extraction.text import CountVectorizer"
   ]
  },
  {
   "cell_type": "code",
   "execution_count": 8,
   "metadata": {
    "collapsed": true
   },
   "outputs": [],
   "source": [
    "from sklearn.feature_extraction.text import TfidfTransformer"
   ]
  },
  {
   "cell_type": "code",
   "execution_count": 9,
   "metadata": {
    "collapsed": true
   },
   "outputs": [],
   "source": [
    "ABC=CountVectorizer()"
   ]
  },
  {
   "cell_type": "code",
   "execution_count": 10,
   "metadata": {
    "collapsed": true
   },
   "outputs": [],
   "source": [
    "ABCD=TfidfTransformer()"
   ]
  },
  {
   "cell_type": "code",
   "execution_count": 11,
   "metadata": {
    "collapsed": true
   },
   "outputs": [],
   "source": [
    "from sklearn.model_selection import train_test_split"
   ]
  },
  {
   "cell_type": "code",
   "execution_count": 12,
   "metadata": {
    "collapsed": true
   },
   "outputs": [],
   "source": [
    "X_train, X_test, y_train, y_test = train_test_split(XX['Body'], XX['labels'],test_size=0.33, random_state=42)"
   ]
  },
  {
   "cell_type": "code",
   "execution_count": 13,
   "metadata": {
    "collapsed": true
   },
   "outputs": [],
   "source": [
    "LL=ABC.fit_transform(X_train)"
   ]
  },
  {
   "cell_type": "code",
   "execution_count": 14,
   "metadata": {
    "collapsed": true
   },
   "outputs": [],
   "source": [
    "Msg1=ABCD.fit_transform(LL)"
   ]
  },
  {
   "cell_type": "code",
   "execution_count": 15,
   "metadata": {
    "collapsed": true
   },
   "outputs": [],
   "source": [
    "ABC=CountVectorizer()"
   ]
  },
  {
   "cell_type": "code",
   "execution_count": 16,
   "metadata": {
    "collapsed": true
   },
   "outputs": [],
   "source": [
    "ABCD=TfidfTransformer()"
   ]
  },
  {
   "cell_type": "code",
   "execution_count": 17,
   "metadata": {
    "collapsed": true
   },
   "outputs": [],
   "source": [
    "LL=ABC.fit_transform(X_test)"
   ]
  },
  {
   "cell_type": "code",
   "execution_count": 18,
   "metadata": {
    "collapsed": true
   },
   "outputs": [],
   "source": [
    "Msg2=ABCD.fit_transform(LL)"
   ]
  },
  {
   "cell_type": "code",
   "execution_count": 19,
   "metadata": {},
   "outputs": [
    {
     "data": {
      "text/plain": [
       "Personal    408\n",
       "service      76\n",
       "spam         57\n",
       "online       29\n",
       "bank         21\n",
       "cabs         16\n",
       "food         10\n",
       "reminder      7\n",
       "others        6\n",
       "Name: labels, dtype: int64"
      ]
     },
     "execution_count": 19,
     "metadata": {},
     "output_type": "execute_result"
    }
   ],
   "source": [
    "XX['labels'].value_counts()"
   ]
  },
  {
   "cell_type": "code",
   "execution_count": 20,
   "metadata": {
    "collapsed": true
   },
   "outputs": [],
   "source": [
    "Temp=y_train.map({'Personal':0,'service':1,'spam':2,'online':3,'bank':4,'cabs':5,'food':6,'reminder':7,'others':8})"
   ]
  },
  {
   "cell_type": "code",
   "execution_count": 21,
   "metadata": {
    "collapsed": true
   },
   "outputs": [],
   "source": [
    "Temp=Temp.values"
   ]
  },
  {
   "cell_type": "code",
   "execution_count": 22,
   "metadata": {},
   "outputs": [
    {
     "data": {
      "text/plain": [
       "array([0, 0, 0, 2, 0, 0, 0, 0, 3, 0, 3, 0, 0, 0, 0, 0, 0, 0, 0, 0, 0, 0, 0,\n",
       "       0, 2, 1, 1, 2, 3, 0, 0, 3, 0, 0, 0, 8, 1, 0, 5, 1, 7, 1, 0, 0, 0, 0,\n",
       "       5, 4, 0, 4, 2, 2, 3, 1, 0, 2, 0, 0, 1, 1, 0, 0, 7, 0, 0, 0, 0, 0, 0,\n",
       "       0, 6, 0, 4, 0, 0, 0, 0, 0, 0, 0, 2, 0, 3, 0, 0, 6, 0, 0, 0, 0, 2, 0,\n",
       "       0, 0, 0, 0, 0, 0, 0, 0, 8, 5, 0, 2, 0, 7, 0, 1, 0, 0, 0, 1, 0, 0, 0,\n",
       "       0, 0, 0, 3, 0, 1, 4, 0, 4, 0, 8, 4, 0, 0, 0, 1, 0, 0, 0, 0, 0, 0, 2,\n",
       "       0, 2, 1, 0, 0, 0, 1, 8, 0, 0, 3, 3, 0, 0, 0, 0, 1, 0, 0, 0, 0, 0, 0,\n",
       "       0, 0, 0, 0, 4, 3, 1, 0, 1, 0, 0, 2, 4, 2, 6, 0, 1, 0, 0, 0, 0, 0, 3,\n",
       "       6, 0, 2, 0, 0, 2, 0, 1, 0, 0, 0, 0, 4, 0, 0, 0, 0, 0, 0, 0, 0, 0, 0,\n",
       "       2, 0, 0, 1, 1, 4, 1, 6, 0, 0, 0, 3, 2, 0, 0, 0, 0, 0, 5, 0, 4, 5, 0,\n",
       "       0, 1, 0, 8, 2, 0, 0, 0, 1, 0, 0, 1, 1, 1, 0, 2, 0, 0, 0, 0, 3, 0, 2,\n",
       "       0, 0, 6, 0, 0, 0, 0, 1, 0, 0, 1, 0, 0, 0, 0, 3, 1, 1, 2, 0, 2, 1, 0,\n",
       "       3, 0, 0, 4, 1, 0, 2, 0, 0, 0, 0, 0, 0, 0, 0, 0, 0, 0, 0, 0, 0, 0, 0,\n",
       "       4, 1, 3, 0, 5, 0, 0, 1, 4, 2, 0, 0, 1, 0, 0, 6, 0, 0, 1, 0, 0, 0, 0,\n",
       "       0, 4, 0, 7, 0, 0, 0, 2, 1, 0, 0, 1, 0, 2, 1, 0, 0, 0, 0, 7, 0, 0, 2,\n",
       "       0, 0, 0, 0, 1, 1, 2, 2, 0, 0, 6, 0, 1, 0, 5, 0, 0, 3, 5, 0, 0, 0, 1,\n",
       "       2, 1, 0, 0, 2, 5, 0, 0, 0, 0, 0, 0, 0, 2, 1, 2, 1, 2, 5, 5, 0, 1, 1,\n",
       "       0, 1, 5, 0, 0, 0, 1, 0, 0, 0, 0, 0, 7, 0, 0, 0, 0, 0, 0, 1, 0, 0, 1,\n",
       "       0, 2, 0, 0, 0, 0, 2, 0], dtype=int64)"
      ]
     },
     "execution_count": 22,
     "metadata": {},
     "output_type": "execute_result"
    }
   ],
   "source": [
    "Temp"
   ]
  },
  {
   "cell_type": "code",
   "execution_count": 27,
   "metadata": {},
   "outputs": [
    {
     "name": "stdout",
     "output_type": "stream",
     "text": [
      "WARNING:tensorflow:float64 is not supported by many models, consider casting to float32.\n"
     ]
    }
   ],
   "source": [
    "XX=tf.infer_real_valued_columns_from_input(Msg1)"
   ]
  },
  {
   "cell_type": "code",
   "execution_count": 28,
   "metadata": {},
   "outputs": [
    {
     "name": "stdout",
     "output_type": "stream",
     "text": [
      "INFO:tensorflow:Using default config.\n",
      "WARNING:tensorflow:Using temporary folder as model directory: C:\\Users\\yashg\\AppData\\Local\\Temp\\tmpdlvclrrk\n",
      "INFO:tensorflow:Using config: {'_tf_config': gpu_options {\n",
      "  per_process_gpu_memory_fraction: 1\n",
      "}\n",
      ", '_is_chief': True, '_num_ps_replicas': 0, '_master': '', '_keep_checkpoint_every_n_hours': 10000, '_save_checkpoints_secs': 600, '_model_dir': 'C:\\\\Users\\\\yashg\\\\AppData\\\\Local\\\\Temp\\\\tmpdlvclrrk', '_evaluation_master': '', '_cluster_spec': <tensorflow.python.training.server_lib.ClusterSpec object at 0x000001D4B9B60AC8>, '_num_worker_replicas': 0, '_keep_checkpoint_max': 5, '_task_id': 0, '_task_type': None, '_tf_random_seed': None, '_save_summary_steps': 100, '_environment': 'local', '_save_checkpoints_steps': None, '_session_config': None}\n"
     ]
    }
   ],
   "source": [
    "classifier=tf.DNNClassifier(feature_columns=XX,hidden_units=[50,100,50],n_classes=9)"
   ]
  },
  {
   "cell_type": "code",
   "execution_count": 36,
   "metadata": {},
   "outputs": [
    {
     "data": {
      "text/plain": [
       "array([[ 0.,  0.,  0., ...,  0.,  0.,  0.],\n",
       "       [ 0.,  0.,  0., ...,  0.,  0.,  0.],\n",
       "       [ 0.,  0.,  0., ...,  0.,  0.,  0.],\n",
       "       ..., \n",
       "       [ 0.,  0.,  0., ...,  0.,  0.,  0.],\n",
       "       [ 0.,  0.,  0., ...,  0.,  0.,  0.],\n",
       "       [ 0.,  0.,  0., ...,  0.,  0.,  0.]])"
      ]
     },
     "execution_count": 36,
     "metadata": {},
     "output_type": "execute_result"
    }
   ],
   "source": [
    "Msg1.toarray()"
   ]
  },
  {
   "cell_type": "code",
   "execution_count": 38,
   "metadata": {},
   "outputs": [
    {
     "name": "stdout",
     "output_type": "stream",
     "text": [
      "WARNING:tensorflow:From <ipython-input-38-696435d42f1c>:1: calling BaseEstimator.fit (from tensorflow.contrib.learn.python.learn.estimators.estimator) with x is deprecated and will be removed after 2016-12-01.\n",
      "Instructions for updating:\n",
      "Estimator is decoupled from Scikit Learn interface by moving into\n",
      "separate class SKCompat. Arguments x, y and batch_size are only\n",
      "available in the SKCompat class, Estimator will only accept input_fn.\n",
      "Example conversion:\n",
      "  est = Estimator(...) -> est = SKCompat(Estimator(...))\n",
      "WARNING:tensorflow:From <ipython-input-38-696435d42f1c>:1: calling BaseEstimator.fit (from tensorflow.contrib.learn.python.learn.estimators.estimator) with y is deprecated and will be removed after 2016-12-01.\n",
      "Instructions for updating:\n",
      "Estimator is decoupled from Scikit Learn interface by moving into\n",
      "separate class SKCompat. Arguments x, y and batch_size are only\n",
      "available in the SKCompat class, Estimator will only accept input_fn.\n",
      "Example conversion:\n",
      "  est = Estimator(...) -> est = SKCompat(Estimator(...))\n",
      "WARNING:tensorflow:float64 is not supported by many models, consider casting to float32.\n",
      "WARNING:tensorflow:From C:\\Users\\yashg\\Anaconda3\\lib\\site-packages\\tensorflow\\contrib\\learn\\python\\learn\\estimators\\head.py:625: scalar_summary (from tensorflow.python.ops.logging_ops) is deprecated and will be removed after 2016-11-30.\n",
      "Instructions for updating:\n",
      "Please switch to tf.summary.scalar. Note that tf.summary.scalar uses the node name instead of the tag. This means that TensorFlow will automatically de-duplicate summary names based on the scope they are created in. Also, passing a tensor or list of tags to a scalar summary op is no longer supported.\n",
      "INFO:tensorflow:Create CheckpointSaverHook.\n",
      "INFO:tensorflow:Restoring parameters from C:\\Users\\yashg\\AppData\\Local\\Temp\\tmpdlvclrrk\\model.ckpt-1\n",
      "INFO:tensorflow:Saving checkpoints for 2 into C:\\Users\\yashg\\AppData\\Local\\Temp\\tmpdlvclrrk\\model.ckpt.\n",
      "INFO:tensorflow:step = 2, loss = 2.16012\n",
      "INFO:tensorflow:global_step/sec: 84.6851\n",
      "INFO:tensorflow:step = 102, loss = 1.14113 (1.181 sec)\n",
      "INFO:tensorflow:global_step/sec: 85.5475\n",
      "INFO:tensorflow:step = 202, loss = 0.530838 (1.185 sec)\n",
      "INFO:tensorflow:global_step/sec: 84.6861\n",
      "INFO:tensorflow:step = 302, loss = 0.318857 (1.165 sec)\n",
      "INFO:tensorflow:global_step/sec: 84.7119\n",
      "INFO:tensorflow:step = 402, loss = 0.182734 (1.180 sec)\n",
      "INFO:tensorflow:global_step/sec: 83.747\n",
      "INFO:tensorflow:step = 502, loss = 0.107588 (1.198 sec)\n",
      "INFO:tensorflow:global_step/sec: 79.7093\n",
      "INFO:tensorflow:step = 602, loss = 0.0607361 (1.251 sec)\n",
      "INFO:tensorflow:global_step/sec: 83.7854\n",
      "INFO:tensorflow:step = 702, loss = 0.0353001 (1.194 sec)\n",
      "INFO:tensorflow:global_step/sec: 82.8549\n",
      "INFO:tensorflow:step = 802, loss = 0.0233523 (1.211 sec)\n",
      "INFO:tensorflow:global_step/sec: 80.8438\n",
      "INFO:tensorflow:step = 902, loss = 0.0175379 (1.237 sec)\n",
      "INFO:tensorflow:global_step/sec: 82.1652\n",
      "INFO:tensorflow:step = 1002, loss = 0.0143731 (1.213 sec)\n",
      "INFO:tensorflow:global_step/sec: 84.8963\n",
      "INFO:tensorflow:step = 1102, loss = 0.0124704 (1.194 sec)\n",
      "INFO:tensorflow:global_step/sec: 82.4685\n",
      "INFO:tensorflow:step = 1202, loss = 0.0112355 (1.209 sec)\n",
      "INFO:tensorflow:global_step/sec: 82.6117\n",
      "INFO:tensorflow:step = 1302, loss = 0.0103821 (1.198 sec)\n",
      "INFO:tensorflow:global_step/sec: 78.5363\n",
      "INFO:tensorflow:step = 1402, loss = 0.00976373 (1.277 sec)\n",
      "INFO:tensorflow:global_step/sec: 83.5933\n",
      "INFO:tensorflow:step = 1502, loss = 0.00930012 (1.192 sec)\n",
      "INFO:tensorflow:global_step/sec: 84.6535\n",
      "INFO:tensorflow:step = 1602, loss = 0.00894205 (1.197 sec)\n",
      "INFO:tensorflow:global_step/sec: 84.1406\n",
      "INFO:tensorflow:step = 1702, loss = 0.00865846 (1.188 sec)\n",
      "INFO:tensorflow:global_step/sec: 84.2461\n",
      "INFO:tensorflow:step = 1802, loss = 0.00842921 (1.187 sec)\n",
      "INFO:tensorflow:global_step/sec: 83.6096\n",
      "INFO:tensorflow:step = 1902, loss = 0.00824065 (1.180 sec)\n",
      "INFO:tensorflow:Saving checkpoints for 2001 into C:\\Users\\yashg\\AppData\\Local\\Temp\\tmpdlvclrrk\\model.ckpt.\n",
      "INFO:tensorflow:Loss for final step: 0.00808471.\n"
     ]
    },
    {
     "data": {
      "text/plain": [
       "DNNClassifier(params={'head': <tensorflow.contrib.learn.python.learn.estimators.head._MultiClassHead object at 0x000001D4B9CF0828>, 'optimizer': None, 'gradient_clip_norm': None, 'activation_fn': <function relu at 0x000001D4B468E598>, 'input_layer_min_slice_size': None, 'embedding_lr_multipliers': None, 'feature_columns': (_RealValuedColumn(column_name='', dimension=1949, default_value=None, dtype=tf.float64, normalizer=None),), 'hidden_units': [50, 100, 50], 'dropout': None})"
      ]
     },
     "execution_count": 38,
     "metadata": {},
     "output_type": "execute_result"
    }
   ],
   "source": [
    "classifier.fit(Msg1.toarray(),Temp,steps=2000)"
   ]
  },
  {
   "cell_type": "code",
   "execution_count": 59,
   "metadata": {},
   "outputs": [
    {
     "name": "stdout",
     "output_type": "stream",
     "text": [
      "WARNING:tensorflow:From C:\\Users\\yashg\\Anaconda3\\lib\\site-packages\\tensorflow\\python\\util\\deprecation.py:347: calling DNNClassifier.predict (from tensorflow.contrib.learn.python.learn.estimators.dnn) with outputs=None is deprecated and will be removed after 2017-03-01.\n",
      "Instructions for updating:\n",
      "Please switch to predict_classes, or set `outputs` argument.\n",
      "WARNING:tensorflow:From C:\\Users\\yashg\\Anaconda3\\lib\\site-packages\\tensorflow\\contrib\\learn\\python\\learn\\estimators\\dnn.py:433: calling BaseEstimator.predict (from tensorflow.contrib.learn.python.learn.estimators.estimator) with x is deprecated and will be removed after 2016-12-01.\n",
      "Instructions for updating:\n",
      "Estimator is decoupled from Scikit Learn interface by moving into\n",
      "separate class SKCompat. Arguments x, y and batch_size are only\n",
      "available in the SKCompat class, Estimator will only accept input_fn.\n",
      "Example conversion:\n",
      "  est = Estimator(...) -> est = SKCompat(Estimator(...))\n",
      "WARNING:tensorflow:float64 is not supported by many models, consider casting to float32.\n",
      "INFO:tensorflow:Restoring parameters from C:\\Users\\yashg\\AppData\\Local\\Temp\\tmpdlvclrrk\\model.ckpt-2001\n"
     ]
    },
    {
     "data": {
      "text/plain": [
       "<generator object DNNClassifier.predict_classes.<locals>.<genexpr> at 0x000001D4BD8D4BA0>"
      ]
     },
     "execution_count": 59,
     "metadata": {},
     "output_type": "execute_result"
    }
   ],
   "source": [
    "classifier.predict(Msg1)"
   ]
  },
  {
   "cell_type": "code",
   "execution_count": null,
   "metadata": {
    "collapsed": true
   },
   "outputs": [],
   "source": []
  }
 ],
 "metadata": {
  "kernelspec": {
   "display_name": "Python 3",
   "language": "python",
   "name": "python3"
  },
  "language_info": {
   "codemirror_mode": {
    "name": "ipython",
    "version": 3
   },
   "file_extension": ".py",
   "mimetype": "text/x-python",
   "name": "python",
   "nbconvert_exporter": "python",
   "pygments_lexer": "ipython3",
   "version": "3.5.4"
  }
 },
 "nbformat": 4,
 "nbformat_minor": 2
}
