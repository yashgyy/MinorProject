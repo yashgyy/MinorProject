{
 "cells": [
  {
   "cell_type": "markdown",
   "metadata": {},
   "source": [
    "### The Following Sms Categoriser Consist of the Following Folders\n",
    "\n",
    "* Deployed Model(Nltk+RandomForesr)\n",
    "\n",
    "    * The Given Folder Consist of the Final Deployed Model ( Random Forest Classifier) in addition with with All the Corresponding NLTK Features . ** The Files are saved in Pickle Format and we can Directly Predict our Incoming Text Messages by making an Object of the Classifier and Passing the Iterator Containig the String **\n",
    "    * The Python File Consist of the Script that basically serves as a Demonstration of predicting the Labels by Loading an Object of Classifier\n",
    "    \n",
    "* Flask(Web Framework)\n",
    "    \n",
    "    * With Combination with open source ngrok (that alllows us to make our localhost public) the Python script Consist of ** Flask web Framework ** the allows you to connect Through our Public based Http server and to fetch the contents where we will run our Python script containing the model \n",
    "    \n",
    "* Working The Model\n",
    "\n",
    "    * The Folder Consist of jupyter Notebook and Http files where our working of making a Random Forest Classifier Model is Shown. The Notebooks strikingly Highlights the Various Steps that goes through Cross Validation, Natural Language Processing so that the Features are in format so as to Pass through the Model, The Training of Machine Learning Algorithm and The Final Classification Report Highlighting Accuracy of Our Training Model\n",
    "    \n",
    "\n",
    "* Preparing Datset\n",
    "\n",
    "    * The Folder shows the Working of pandas so as to Prepare the Dataset. The Dataset are taken from our ** Personal Text Messages ** , the spam Dataset and Singapore Personal Messages Dataset . The text Messages Are preprocessed using The Data Library . The messages from different Sources are then Combined so as to Make a Final csv file File16.csv\n",
    "    \n",
    "* ReadSms\n",
    "\n",
    "    * The Android App allowed us to ** Fetch the Text Messages from Our Phone and convert it into a Text File ** which is ** Not a work of Open Source and especially made for us for this Process**\n",
    "\n",
    "* SmsDroid \n",
    "\n",
    "    * The Open Source Project upon which we will Add the Seperate Activities for our Labelling and Shift The message Accordingly\n",
    "\n",
    "\n",
    "#### https://www.kaggle.com/rtatman/the-national-university-of-singapore-sms-corpus (Personal Sms Dataset)\n",
    "\n",
    "#### https://www.kaggle.com/uciml/sms-spam-collection-dataset\n",
    "\n",
    "#### (Open Source) https://github.com/felixb/smsdroid"
   ]
  },
  {
   "cell_type": "code",
   "execution_count": null,
   "metadata": {
    "collapsed": true
   },
   "outputs": [],
   "source": []
  }
 ],
 "metadata": {
  "kernelspec": {
   "display_name": "Python 3",
   "language": "python",
   "name": "python3"
  },
  "language_info": {
   "codemirror_mode": {
    "name": "ipython",
    "version": 3
   },
   "file_extension": ".py",
   "mimetype": "text/x-python",
   "name": "python",
   "nbconvert_exporter": "python",
   "pygments_lexer": "ipython3",
   "version": "3.5.4"
  }
 },
 "nbformat": 4,
 "nbformat_minor": 2
}
